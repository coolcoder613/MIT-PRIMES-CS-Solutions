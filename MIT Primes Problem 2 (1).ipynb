{
 "cells": [
  {
   "cell_type": "markdown",
   "metadata": {},
   "source": [
    "# MIT PRIMES Computer Science Problem #2\n",
    "### Description for the program:\n",
    "This program inputs two strings of digits (up to 30 digits in length), and finds all ways to partition the digits of the first number. In addition, it finds the partition which multiplies to the second number (which is a number between 1 and the first number).\n",
    "\n",
    "### Instructions for how to run the code:\n",
    "When prompted, enter two strings of digits of your choice. Then watch the code run!\n",
    "\n",
    "###### Programming Language: Python 3.8\n",
    "###### Developmental Framework: Jupyter Notebooks 6.0.3\n",
    "###### Platform: Mac"
   ]
  },
  {
   "cell_type": "code",
   "execution_count": null,
   "metadata": {},
   "outputs": [],
   "source": [
    "import math\n",
    "import numpy as np"
   ]
  },
  {
   "cell_type": "code",
   "execution_count": null,
   "metadata": {},
   "outputs": [],
   "source": [
    "num = input(\"Enter a number: \")\n",
    "num2 = input(\"Enter a number between 1 and the first number: \")"
   ]
  },
  {
   "cell_type": "code",
   "execution_count": null,
   "metadata": {},
   "outputs": [],
   "source": [
    "intnum = int(num)\n",
    "def split(word): \n",
    "    '''This function splits the string that was taken as an input into its constitutional digits. The result is a list with each digit as a term in the list.'''\n",
    "    return [char for char in word]  "
   ]
  },
  {
   "cell_type": "code",
   "execution_count": null,
   "metadata": {},
   "outputs": [],
   "source": [
    "from itertools import combinations \n",
    "num_string = np.array(split(num)) #The number string that was inputted is now being split, so it can be grouped off into partitions later on\n",
    "length = len(num_string) \n",
    "def combo(arr, r): \n",
    "    '''This function finds the number of permutations that can be done for a list of numbers'''\n",
    "    return list(combinations(arr, r)) \n",
    "\n",
    "rangeValues = np.array([],dtype=np.int64) #Making an array which has all of the values from 1 to n, where n is the length of the inputted string, so that it can be passed into the combo function.\n",
    "partitionList = [] #Making a list of indices by which num_string will be split\n",
    "for i in range (1,length+1):\n",
    "    rangeValues = np.append(rangeValues, int(i))\n",
    "for i in range(1,length):\n",
    "    partitionList+=combo(rangeValues, i)"
   ]
  },
  {
   "cell_type": "code",
   "execution_count": null,
   "metadata": {},
   "outputs": [],
   "source": [
    "list_of_partitions = []"
   ]
  },
  {
   "cell_type": "code",
   "execution_count": null,
   "metadata": {},
   "outputs": [],
   "source": [
    "for x in (partitionList):\n",
    "    partitions = []\n",
    "    split_ratio = list(x) \n",
    "    res = [num_string[i : j] for i, j in zip([0] + split_ratio, split_ratio + [None])] \n",
    "    for i in res:\n",
    "        part = \"\".join(i)\n",
    "        partitions.append(part)\n",
    "        while(\"\" in partitions) : \n",
    "            partitions.remove(\"\")\n",
    "    for i in partitions:\n",
    "        list_of_partitions.append(partitions)"
   ]
  },
  {
   "cell_type": "code",
   "execution_count": null,
   "metadata": {},
   "outputs": [],
   "source": [
    "partitions_list_modified = [] #Creating a partition list which is devoid of all the repeats\n",
    "for i in list_of_partitions: \n",
    "    if i not in partitions_list_modified: \n",
    "        partitions_list_modified.append(i)"
   ]
  },
  {
   "cell_type": "code",
   "execution_count": null,
   "metadata": {},
   "outputs": [],
   "source": [
    "product_list = [] #Creating a list of products\n",
    "product = 1\n",
    "for i in partitions_list_modified:\n",
    "    for j in i:\n",
    "        product *= int(j)\n",
    "    product_list.append(product)\n",
    "    product=1"
   ]
  },
  {
   "cell_type": "code",
   "execution_count": null,
   "metadata": {},
   "outputs": [],
   "source": [
    "for i in product_list:\n",
    "    if i == int(num2):\n",
    "        print(partitions_list_modified[product_list.index(i)])\n",
    "        \n",
    "if int(num2) not in product_list:\n",
    "    print(\"No Solutions\")"
   ]
  },
  {
   "cell_type": "markdown",
   "metadata": {},
   "source": [
    "### Documentation\n",
    "1. This program always gives the correct answer, because it goes through all of the partitions, makes a list of the products of all of the partitions, and finds the one which matches with the second input.\n",
    "\n",
    "2. The worst case effiency is for strings of length 15 and greater. For these strings, it takes quite a while for the answer to be outputted.\n",
    "\n",
    "3. The expected result is an answer within 5 seconds of running. However, in the case of some larger strings, the program takes quite a while to give the \n",
    "answer.\n",
    "\n",
    "4. In order to make my code run faster, I used the combinations function. I then used the output from that function as the input for the split function,\n",
    "which took the inputted combinations, and used them as indices to split the list at specific locations. This is a fast way of making sure that all of the \n",
    "partitions are present,instead of having to identify the indices of each split,for which the lack of efficiency would definitely be apparent for longer strings. Furthermore I used numpy arrays to more efficiently go through the beginning parts of the code. Before I had included thse arrays, the code would stop at the combinations function, or at the prime factors function. However, with the use of these new data types, the code only slowed down at the list\n",
    "modification parts. Lastly, at the end, repeats are removed, for added efficiency."
   ]
  }
 ],
 "metadata": {
  "kernelspec": {
   "display_name": "Python 3",
   "language": "python",
   "name": "python3"
  },
  "language_info": {
   "codemirror_mode": {
    "name": "ipython",
    "version": 3
   },
   "file_extension": ".py",
   "mimetype": "text/x-python",
   "name": "python",
   "nbconvert_exporter": "python",
   "pygments_lexer": "ipython3",
   "version": "3.8.3"
  }
 },
 "nbformat": 4,
 "nbformat_minor": 4
}
